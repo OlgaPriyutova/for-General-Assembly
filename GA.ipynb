{
  "nbformat": 4,
  "nbformat_minor": 0,
  "metadata": {
    "colab": {
      "provenance": [],
      "collapsed_sections": [],
      "authorship_tag": "ABX9TyOLBVGqL6AhVi2bND8nA4FD",
      "include_colab_link": true
    },
    "kernelspec": {
      "name": "python3",
      "display_name": "Python 3"
    },
    "language_info": {
      "name": "python"
    }
  },
  "cells": [
    {
      "cell_type": "markdown",
      "metadata": {
        "id": "view-in-github",
        "colab_type": "text"
      },
      "source": [
        "<a href=\"https://colab.research.google.com/github/OlgaPriyutova/for-General-Assembly/blob/main/GA.ipynb\" target=\"_parent\"><img src=\"https://colab.research.google.com/assets/colab-badge.svg\" alt=\"Open In Colab\"/></a>"
      ]
    },
    {
      "cell_type": "markdown",
      "source": [
        "# Part 1"
      ],
      "metadata": {
        "id": "0oTxqLpbL2-b"
      }
    },
    {
      "cell_type": "code",
      "execution_count": 136,
      "metadata": {
        "id": "f2PgHXcWnwrf"
      },
      "outputs": [],
      "source": [
        "import pandas as pd\n",
        "import numpy as np\n",
        "from sklearn.model_selection import train_test_split\n",
        "from sklearn.linear_model import LogisticRegression\n",
        "from sklearn.preprocessing import StandardScaler\n",
        "from sklearn.pipeline import Pipeline\n",
        "from sklearn.model_selection import cross_val_score\n",
        "from sklearn.feature_selection import RFE\n",
        "from sklearn.naive_bayes import GaussianNB\n",
        "from sklearn.tree import DecisionTreeClassifier\n",
        "from sklearn.ensemble import GradientBoostingClassifier\n",
        "from sklearn.metrics import precision_score, recall_score\n",
        "\n",
        "\n",
        "\n",
        "\n"
      ]
    },
    {
      "cell_type": "code",
      "source": [
        "headers = open('part-1-field-names.txt')\n",
        "col =headers.readlines()\n",
        "colu = [k.rstrip('\\n') for k in col]"
      ],
      "metadata": {
        "id": "sXZG_QZnn2Ju"
      },
      "execution_count": 137,
      "outputs": []
    },
    {
      "cell_type": "code",
      "source": [
        "file = pd.read_csv('part-1-data.csv',header=None)\n",
        "file.columns = colu\n",
        "file.head()\n"
      ],
      "metadata": {
        "colab": {
          "base_uri": "https://localhost:8080/",
          "height": 300
        },
        "id": "rG7JCxAnoQgU",
        "outputId": "9d6ba812-10a6-4577-cbff-483facaed95e"
      },
      "execution_count": 138,
      "outputs": [
        {
          "output_type": "execute_result",
          "data": {
            "text/plain": [
              "         ID diagnosis  radius_mean  radius_sd_error  radius_worst  \\\n",
              "0    842302         M        17.99            10.38        122.80   \n",
              "1    842517         M        20.57            17.77        132.90   \n",
              "2  84300903         M        19.69            21.25        130.00   \n",
              "3  84348301         M        11.42            20.38         77.58   \n",
              "4  84358402         M        20.29            14.34        135.10   \n",
              "\n",
              "   texture_mean  texture_sd_error  texture_worst  perimeter_mean  \\\n",
              "0        1001.0           0.11840        0.27760          0.3001   \n",
              "1        1326.0           0.08474        0.07864          0.0869   \n",
              "2        1203.0           0.10960        0.15990          0.1974   \n",
              "3         386.1           0.14250        0.28390          0.2414   \n",
              "4        1297.0           0.10030        0.13280          0.1980   \n",
              "\n",
              "   perimeter_sd_error  ...  concavity_worst  concave_points_mean  \\\n",
              "0             0.14710  ...            25.38                17.33   \n",
              "1             0.07017  ...            24.99                23.41   \n",
              "2             0.12790  ...            23.57                25.53   \n",
              "3             0.10520  ...            14.91                26.50   \n",
              "4             0.10430  ...            22.54                16.67   \n",
              "\n",
              "   concave_points_sd_error  concave_points_worst  symmetry_mean  \\\n",
              "0                   184.60                2019.0         0.1622   \n",
              "1                   158.80                1956.0         0.1238   \n",
              "2                   152.50                1709.0         0.1444   \n",
              "3                    98.87                 567.7         0.2098   \n",
              "4                   152.20                1575.0         0.1374   \n",
              "\n",
              "   symmetry_sd_error  symmetry_worst  fractal_dimension_mean  \\\n",
              "0             0.6656          0.7119                  0.2654   \n",
              "1             0.1866          0.2416                  0.1860   \n",
              "2             0.4245          0.4504                  0.2430   \n",
              "3             0.8663          0.6869                  0.2575   \n",
              "4             0.2050          0.4000                  0.1625   \n",
              "\n",
              "   fractal_dimension_sd_error  fractal_dimension_worst  \n",
              "0                      0.4601                  0.11890  \n",
              "1                      0.2750                  0.08902  \n",
              "2                      0.3613                  0.08758  \n",
              "3                      0.6638                  0.17300  \n",
              "4                      0.2364                  0.07678  \n",
              "\n",
              "[5 rows x 32 columns]"
            ],
            "text/html": [
              "\n",
              "  <div id=\"df-78913066-3239-44a3-a9a6-d738b8b748bf\">\n",
              "    <div class=\"colab-df-container\">\n",
              "      <div>\n",
              "<style scoped>\n",
              "    .dataframe tbody tr th:only-of-type {\n",
              "        vertical-align: middle;\n",
              "    }\n",
              "\n",
              "    .dataframe tbody tr th {\n",
              "        vertical-align: top;\n",
              "    }\n",
              "\n",
              "    .dataframe thead th {\n",
              "        text-align: right;\n",
              "    }\n",
              "</style>\n",
              "<table border=\"1\" class=\"dataframe\">\n",
              "  <thead>\n",
              "    <tr style=\"text-align: right;\">\n",
              "      <th></th>\n",
              "      <th>ID</th>\n",
              "      <th>diagnosis</th>\n",
              "      <th>radius_mean</th>\n",
              "      <th>radius_sd_error</th>\n",
              "      <th>radius_worst</th>\n",
              "      <th>texture_mean</th>\n",
              "      <th>texture_sd_error</th>\n",
              "      <th>texture_worst</th>\n",
              "      <th>perimeter_mean</th>\n",
              "      <th>perimeter_sd_error</th>\n",
              "      <th>...</th>\n",
              "      <th>concavity_worst</th>\n",
              "      <th>concave_points_mean</th>\n",
              "      <th>concave_points_sd_error</th>\n",
              "      <th>concave_points_worst</th>\n",
              "      <th>symmetry_mean</th>\n",
              "      <th>symmetry_sd_error</th>\n",
              "      <th>symmetry_worst</th>\n",
              "      <th>fractal_dimension_mean</th>\n",
              "      <th>fractal_dimension_sd_error</th>\n",
              "      <th>fractal_dimension_worst</th>\n",
              "    </tr>\n",
              "  </thead>\n",
              "  <tbody>\n",
              "    <tr>\n",
              "      <th>0</th>\n",
              "      <td>842302</td>\n",
              "      <td>M</td>\n",
              "      <td>17.99</td>\n",
              "      <td>10.38</td>\n",
              "      <td>122.80</td>\n",
              "      <td>1001.0</td>\n",
              "      <td>0.11840</td>\n",
              "      <td>0.27760</td>\n",
              "      <td>0.3001</td>\n",
              "      <td>0.14710</td>\n",
              "      <td>...</td>\n",
              "      <td>25.38</td>\n",
              "      <td>17.33</td>\n",
              "      <td>184.60</td>\n",
              "      <td>2019.0</td>\n",
              "      <td>0.1622</td>\n",
              "      <td>0.6656</td>\n",
              "      <td>0.7119</td>\n",
              "      <td>0.2654</td>\n",
              "      <td>0.4601</td>\n",
              "      <td>0.11890</td>\n",
              "    </tr>\n",
              "    <tr>\n",
              "      <th>1</th>\n",
              "      <td>842517</td>\n",
              "      <td>M</td>\n",
              "      <td>20.57</td>\n",
              "      <td>17.77</td>\n",
              "      <td>132.90</td>\n",
              "      <td>1326.0</td>\n",
              "      <td>0.08474</td>\n",
              "      <td>0.07864</td>\n",
              "      <td>0.0869</td>\n",
              "      <td>0.07017</td>\n",
              "      <td>...</td>\n",
              "      <td>24.99</td>\n",
              "      <td>23.41</td>\n",
              "      <td>158.80</td>\n",
              "      <td>1956.0</td>\n",
              "      <td>0.1238</td>\n",
              "      <td>0.1866</td>\n",
              "      <td>0.2416</td>\n",
              "      <td>0.1860</td>\n",
              "      <td>0.2750</td>\n",
              "      <td>0.08902</td>\n",
              "    </tr>\n",
              "    <tr>\n",
              "      <th>2</th>\n",
              "      <td>84300903</td>\n",
              "      <td>M</td>\n",
              "      <td>19.69</td>\n",
              "      <td>21.25</td>\n",
              "      <td>130.00</td>\n",
              "      <td>1203.0</td>\n",
              "      <td>0.10960</td>\n",
              "      <td>0.15990</td>\n",
              "      <td>0.1974</td>\n",
              "      <td>0.12790</td>\n",
              "      <td>...</td>\n",
              "      <td>23.57</td>\n",
              "      <td>25.53</td>\n",
              "      <td>152.50</td>\n",
              "      <td>1709.0</td>\n",
              "      <td>0.1444</td>\n",
              "      <td>0.4245</td>\n",
              "      <td>0.4504</td>\n",
              "      <td>0.2430</td>\n",
              "      <td>0.3613</td>\n",
              "      <td>0.08758</td>\n",
              "    </tr>\n",
              "    <tr>\n",
              "      <th>3</th>\n",
              "      <td>84348301</td>\n",
              "      <td>M</td>\n",
              "      <td>11.42</td>\n",
              "      <td>20.38</td>\n",
              "      <td>77.58</td>\n",
              "      <td>386.1</td>\n",
              "      <td>0.14250</td>\n",
              "      <td>0.28390</td>\n",
              "      <td>0.2414</td>\n",
              "      <td>0.10520</td>\n",
              "      <td>...</td>\n",
              "      <td>14.91</td>\n",
              "      <td>26.50</td>\n",
              "      <td>98.87</td>\n",
              "      <td>567.7</td>\n",
              "      <td>0.2098</td>\n",
              "      <td>0.8663</td>\n",
              "      <td>0.6869</td>\n",
              "      <td>0.2575</td>\n",
              "      <td>0.6638</td>\n",
              "      <td>0.17300</td>\n",
              "    </tr>\n",
              "    <tr>\n",
              "      <th>4</th>\n",
              "      <td>84358402</td>\n",
              "      <td>M</td>\n",
              "      <td>20.29</td>\n",
              "      <td>14.34</td>\n",
              "      <td>135.10</td>\n",
              "      <td>1297.0</td>\n",
              "      <td>0.10030</td>\n",
              "      <td>0.13280</td>\n",
              "      <td>0.1980</td>\n",
              "      <td>0.10430</td>\n",
              "      <td>...</td>\n",
              "      <td>22.54</td>\n",
              "      <td>16.67</td>\n",
              "      <td>152.20</td>\n",
              "      <td>1575.0</td>\n",
              "      <td>0.1374</td>\n",
              "      <td>0.2050</td>\n",
              "      <td>0.4000</td>\n",
              "      <td>0.1625</td>\n",
              "      <td>0.2364</td>\n",
              "      <td>0.07678</td>\n",
              "    </tr>\n",
              "  </tbody>\n",
              "</table>\n",
              "<p>5 rows × 32 columns</p>\n",
              "</div>\n",
              "      <button class=\"colab-df-convert\" onclick=\"convertToInteractive('df-78913066-3239-44a3-a9a6-d738b8b748bf')\"\n",
              "              title=\"Convert this dataframe to an interactive table.\"\n",
              "              style=\"display:none;\">\n",
              "        \n",
              "  <svg xmlns=\"http://www.w3.org/2000/svg\" height=\"24px\"viewBox=\"0 0 24 24\"\n",
              "       width=\"24px\">\n",
              "    <path d=\"M0 0h24v24H0V0z\" fill=\"none\"/>\n",
              "    <path d=\"M18.56 5.44l.94 2.06.94-2.06 2.06-.94-2.06-.94-.94-2.06-.94 2.06-2.06.94zm-11 1L8.5 8.5l.94-2.06 2.06-.94-2.06-.94L8.5 2.5l-.94 2.06-2.06.94zm10 10l.94 2.06.94-2.06 2.06-.94-2.06-.94-.94-2.06-.94 2.06-2.06.94z\"/><path d=\"M17.41 7.96l-1.37-1.37c-.4-.4-.92-.59-1.43-.59-.52 0-1.04.2-1.43.59L10.3 9.45l-7.72 7.72c-.78.78-.78 2.05 0 2.83L4 21.41c.39.39.9.59 1.41.59.51 0 1.02-.2 1.41-.59l7.78-7.78 2.81-2.81c.8-.78.8-2.07 0-2.86zM5.41 20L4 18.59l7.72-7.72 1.47 1.35L5.41 20z\"/>\n",
              "  </svg>\n",
              "      </button>\n",
              "      \n",
              "  <style>\n",
              "    .colab-df-container {\n",
              "      display:flex;\n",
              "      flex-wrap:wrap;\n",
              "      gap: 12px;\n",
              "    }\n",
              "\n",
              "    .colab-df-convert {\n",
              "      background-color: #E8F0FE;\n",
              "      border: none;\n",
              "      border-radius: 50%;\n",
              "      cursor: pointer;\n",
              "      display: none;\n",
              "      fill: #1967D2;\n",
              "      height: 32px;\n",
              "      padding: 0 0 0 0;\n",
              "      width: 32px;\n",
              "    }\n",
              "\n",
              "    .colab-df-convert:hover {\n",
              "      background-color: #E2EBFA;\n",
              "      box-shadow: 0px 1px 2px rgba(60, 64, 67, 0.3), 0px 1px 3px 1px rgba(60, 64, 67, 0.15);\n",
              "      fill: #174EA6;\n",
              "    }\n",
              "\n",
              "    [theme=dark] .colab-df-convert {\n",
              "      background-color: #3B4455;\n",
              "      fill: #D2E3FC;\n",
              "    }\n",
              "\n",
              "    [theme=dark] .colab-df-convert:hover {\n",
              "      background-color: #434B5C;\n",
              "      box-shadow: 0px 1px 3px 1px rgba(0, 0, 0, 0.15);\n",
              "      filter: drop-shadow(0px 1px 2px rgba(0, 0, 0, 0.3));\n",
              "      fill: #FFFFFF;\n",
              "    }\n",
              "  </style>\n",
              "\n",
              "      <script>\n",
              "        const buttonEl =\n",
              "          document.querySelector('#df-78913066-3239-44a3-a9a6-d738b8b748bf button.colab-df-convert');\n",
              "        buttonEl.style.display =\n",
              "          google.colab.kernel.accessAllowed ? 'block' : 'none';\n",
              "\n",
              "        async function convertToInteractive(key) {\n",
              "          const element = document.querySelector('#df-78913066-3239-44a3-a9a6-d738b8b748bf');\n",
              "          const dataTable =\n",
              "            await google.colab.kernel.invokeFunction('convertToInteractive',\n",
              "                                                     [key], {});\n",
              "          if (!dataTable) return;\n",
              "\n",
              "          const docLinkHtml = 'Like what you see? Visit the ' +\n",
              "            '<a target=\"_blank\" href=https://colab.research.google.com/notebooks/data_table.ipynb>data table notebook</a>'\n",
              "            + ' to learn more about interactive tables.';\n",
              "          element.innerHTML = '';\n",
              "          dataTable['output_type'] = 'display_data';\n",
              "          await google.colab.output.renderOutput(dataTable, element);\n",
              "          const docLink = document.createElement('div');\n",
              "          docLink.innerHTML = docLinkHtml;\n",
              "          element.appendChild(docLink);\n",
              "        }\n",
              "      </script>\n",
              "    </div>\n",
              "  </div>\n",
              "  "
            ]
          },
          "metadata": {},
          "execution_count": 138
        }
      ]
    },
    {
      "cell_type": "markdown",
      "source": [
        "Check for the missing values:"
      ],
      "metadata": {
        "id": "QYwMQFEXBoPn"
      }
    },
    {
      "cell_type": "code",
      "source": [
        "file.isna().sum()"
      ],
      "metadata": {
        "colab": {
          "base_uri": "https://localhost:8080/"
        },
        "id": "Y4IWOCGf2-ch",
        "outputId": "728435d2-b652-4646-81d4-2e8dbe2484f0"
      },
      "execution_count": 139,
      "outputs": [
        {
          "output_type": "execute_result",
          "data": {
            "text/plain": [
              "ID                            0\n",
              "diagnosis                     0\n",
              "radius_mean                   0\n",
              "radius_sd_error               0\n",
              "radius_worst                  0\n",
              "texture_mean                  0\n",
              "texture_sd_error              0\n",
              "texture_worst                 0\n",
              "perimeter_mean                0\n",
              "perimeter_sd_error            0\n",
              "perimeter_worst               0\n",
              "area_mean                     0\n",
              "area_sd_error                 0\n",
              "area_worst                    0\n",
              "smoothness_mean               0\n",
              "smoothness_sd_error           0\n",
              "smoothness_worst              0\n",
              "compactness_mean              0\n",
              "compactness_sd_error          0\n",
              "compactness_worst             0\n",
              "concavity_mean                0\n",
              "concavity_sd_error            0\n",
              "concavity_worst               0\n",
              "concave_points_mean           0\n",
              "concave_points_sd_error       0\n",
              "concave_points_worst          0\n",
              "symmetry_mean                 0\n",
              "symmetry_sd_error             0\n",
              "symmetry_worst                0\n",
              "fractal_dimension_mean        0\n",
              "fractal_dimension_sd_error    0\n",
              "fractal_dimension_worst       0\n",
              "dtype: int64"
            ]
          },
          "metadata": {},
          "execution_count": 139
        }
      ]
    },
    {
      "cell_type": "code",
      "source": [
        "file.loc[file['diagnosis'] == 'M', 'cancer_present'] = 1\n",
        "file.loc[file['diagnosis'] == 'B', 'cancer_present'] = 0\n",
        "file.columns\n"
      ],
      "metadata": {
        "colab": {
          "base_uri": "https://localhost:8080/"
        },
        "id": "HWL278HeoiYF",
        "outputId": "eb5cacad-9bed-48d4-dc3c-033db351eca0"
      },
      "execution_count": 140,
      "outputs": [
        {
          "output_type": "execute_result",
          "data": {
            "text/plain": [
              "Index(['ID', 'diagnosis', 'radius_mean', 'radius_sd_error', 'radius_worst',\n",
              "       'texture_mean', 'texture_sd_error', 'texture_worst', 'perimeter_mean',\n",
              "       'perimeter_sd_error', 'perimeter_worst', 'area_mean', 'area_sd_error',\n",
              "       'area_worst', 'smoothness_mean', 'smoothness_sd_error',\n",
              "       'smoothness_worst', 'compactness_mean', 'compactness_sd_error',\n",
              "       'compactness_worst', 'concavity_mean', 'concavity_sd_error',\n",
              "       'concavity_worst', 'concave_points_mean', 'concave_points_sd_error',\n",
              "       'concave_points_worst', 'symmetry_mean', 'symmetry_sd_error',\n",
              "       'symmetry_worst', 'fractal_dimension_mean',\n",
              "       'fractal_dimension_sd_error', 'fractal_dimension_worst',\n",
              "       'cancer_present'],\n",
              "      dtype='object')"
            ]
          },
          "metadata": {},
          "execution_count": 140
        }
      ]
    },
    {
      "cell_type": "code",
      "source": [],
      "metadata": {
        "id": "NOkXr3UHAqkw"
      },
      "execution_count": 140,
      "outputs": []
    },
    {
      "cell_type": "markdown",
      "source": [
        "# Median smoothness: Compute the median smoothness for benign and malignant tumors."
      ],
      "metadata": {
        "id": "yyctraIOAXtN"
      }
    },
    {
      "cell_type": "code",
      "source": [
        "print('Median smootheness for malignant = ',file[file['diagnosis']=='M']['smoothness_mean'].median())\n",
        "print('Median smootheness for benign = ',file[file['diagnosis']=='B']['smoothness_mean'].median())\n",
        "\n"
      ],
      "metadata": {
        "colab": {
          "base_uri": "https://localhost:8080/"
        },
        "id": "69odzzqvAr6G",
        "outputId": "90752e31-9d7a-4ee0-8b2a-182e37d28e26"
      },
      "execution_count": 141,
      "outputs": [
        {
          "output_type": "stream",
          "name": "stdout",
          "text": [
            "Median smootheness for malignant =  3.6795\n",
            "Median smootheness for benign =  1.851\n"
          ]
        }
      ]
    },
    {
      "cell_type": "markdown",
      "source": [
        "Let us choose features and target columns  (RFE estimator will help us to choose main features itself), and split the data for the train and test datasets."
      ],
      "metadata": {
        "id": "n007ttw0BxjX"
      }
    },
    {
      "cell_type": "code",
      "source": [
        "y = file['cancer_present']\n",
        "X = file.drop(['ID','diagnosis','cancer_present'], axis=1)\n",
        "\n",
        "X_train, X_test, y_train, y_test = train_test_split(X, y, test_size=0.25, random_state=32)"
      ],
      "metadata": {
        "id": "B0fc1pykrQnc"
      },
      "execution_count": 142,
      "outputs": []
    },
    {
      "cell_type": "code",
      "source": [],
      "metadata": {
        "id": "evDnHBo5CJ58"
      },
      "execution_count": 142,
      "outputs": []
    },
    {
      "cell_type": "markdown",
      "source": [
        "# Application of Logistic Regression: "
      ],
      "metadata": {
        "id": "d8vbI4cT-uYt"
      }
    },
    {
      "cell_type": "code",
      "source": [
        "logreg    = Pipeline([('scaler', StandardScaler()), \n",
        "                     ('rfe', RFE(estimator=LogisticRegression(), n_features_to_select=5)),\n",
        "                     ('log_reg', LogisticRegression(random_state=32))])\n",
        "\n",
        "logreg.fit(X_train, y_train)"
      ],
      "metadata": {
        "colab": {
          "base_uri": "https://localhost:8080/"
        },
        "id": "hKKvzuKB2CrC",
        "outputId": "812cd10e-672f-412c-9072-28909c5da28a"
      },
      "execution_count": 143,
      "outputs": [
        {
          "output_type": "execute_result",
          "data": {
            "text/plain": [
              "Pipeline(steps=[('scaler', StandardScaler()),\n",
              "                ('rfe',\n",
              "                 RFE(estimator=LogisticRegression(), n_features_to_select=5)),\n",
              "                ('log_reg', LogisticRegression(random_state=32))])"
            ]
          },
          "metadata": {},
          "execution_count": 143
        }
      ]
    },
    {
      "cell_type": "code",
      "source": [
        "cross_val_score(logreg, X_train, y_train, cv=10).mean()"
      ],
      "metadata": {
        "colab": {
          "base_uri": "https://localhost:8080/"
        },
        "id": "GGRrff0tsVFi",
        "outputId": "cc6f775a-95c0-4218-8f7d-3657101a05b1"
      },
      "execution_count": 144,
      "outputs": [
        {
          "output_type": "execute_result",
          "data": {
            "text/plain": [
              "0.9625692137320044"
            ]
          },
          "metadata": {},
          "execution_count": 144
        }
      ]
    },
    {
      "cell_type": "markdown",
      "source": [
        "# Application of Naive Baiess Algorithm:"
      ],
      "metadata": {
        "id": "6VBrO01e-424"
      }
    },
    {
      "cell_type": "code",
      "source": [
        "nb     = Pipeline([('scaler', StandardScaler()), ('nb', GaussianNB())])\n",
        "\n",
        "nb.fit(X_train, y_train)\n",
        "\n",
        "cross_val_score(nb, X_train, y_train, cv=10).mean()"
      ],
      "metadata": {
        "colab": {
          "base_uri": "https://localhost:8080/"
        },
        "id": "gxFAWHgN2RRP",
        "outputId": "b8bfe732-769a-4344-f3c5-887b04d0f1d6"
      },
      "execution_count": 145,
      "outputs": [
        {
          "output_type": "execute_result",
          "data": {
            "text/plain": [
              "0.9343300110741971"
            ]
          },
          "metadata": {},
          "execution_count": 145
        }
      ]
    },
    {
      "cell_type": "markdown",
      "source": [
        "# Application of Gradient Booster Algorithm:"
      ],
      "metadata": {
        "id": "6WoB6a9p_C9n"
      }
    },
    {
      "cell_type": "code",
      "source": [
        "GradientBoost     = Pipeline([('scaler', StandardScaler()), \n",
        "                     ('Gradient', GradientBoostingClassifier(random_state=32))])\n",
        "\n",
        "GradientBoost.fit(X_train, y_train)\n",
        "\n",
        "cross_val_score(GradientBoost, X_train, y_train, cv=10).mean()"
      ],
      "metadata": {
        "colab": {
          "base_uri": "https://localhost:8080/"
        },
        "id": "gnOAn5Me3ifj",
        "outputId": "33e4d185-aa66-4ef4-94f5-65a08e14dd8a"
      },
      "execution_count": 146,
      "outputs": [
        {
          "output_type": "execute_result",
          "data": {
            "text/plain": [
              "0.9601882613510521"
            ]
          },
          "metadata": {},
          "execution_count": 146
        }
      ]
    },
    {
      "cell_type": "markdown",
      "source": [
        "# Comparing accuracy for each algorithm: "
      ],
      "metadata": {
        "id": "3_HDF03__Vde"
      }
    },
    {
      "cell_type": "code",
      "source": [
        "\n",
        "\n",
        "\n",
        "print(cross_val_score(logreg, X_train, y_train, cv=5).mean())\n",
        "print(cross_val_score(GradientBoost, X_train, y_train, cv=5).mean())\n",
        "print(cross_val_score(nb, X_train, y_train, cv=5).mean())"
      ],
      "metadata": {
        "colab": {
          "base_uri": "https://localhost:8080/"
        },
        "id": "1czOCxwU3in_",
        "outputId": "d61df670-6d83-46f6-ac67-babc6186fbbc"
      },
      "execution_count": 147,
      "outputs": [
        {
          "output_type": "stream",
          "name": "stdout",
          "text": [
            "0.955403556771546\n",
            "0.9601094391244871\n",
            "0.9389603283173734\n"
          ]
        }
      ]
    },
    {
      "cell_type": "markdown",
      "source": [
        "# Prediction on test data by all 3 algorithms: "
      ],
      "metadata": {
        "id": "fX38YIyX_en1"
      }
    },
    {
      "cell_type": "code",
      "source": [
        "pl = logreg.predict(X_test)\n",
        "pgb = GradientBoost.predict(X_test)\n",
        "pnb = nb.predict(X_test)\n",
        "\n",
        "print(precision_score(y_test, pl))\n",
        "print(precision_score(y_test, pgb))  ## Prediction on test data GradientBuster algorithm gave us better results\n",
        "print(precision_score(y_test, pnb))"
      ],
      "metadata": {
        "colab": {
          "base_uri": "https://localhost:8080/"
        },
        "id": "8nLizdFO8SOX",
        "outputId": "2f99676a-7f25-46aa-9b55-854e8c10dced"
      },
      "execution_count": 148,
      "outputs": [
        {
          "output_type": "stream",
          "name": "stdout",
          "text": [
            "0.9016393442622951\n",
            "0.9454545454545454\n",
            "0.9090909090909091\n"
          ]
        }
      ]
    },
    {
      "cell_type": "markdown",
      "source": [
        "#Gradient Bosster algorithm gave us best result out of 3 algorithm - Logistic Regression. Naive Baiess and GB. \n",
        "\n",
        "Next steps: we should check how Decision Tree and Random Forest Algorithms will work on this data. \n",
        "\n",
        "\n",
        "\n",
        "\n"
      ],
      "metadata": {
        "id": "HdEW1b8J_mgE"
      }
    },
    {
      "cell_type": "markdown",
      "source": [
        "## Part 2"
      ],
      "metadata": {
        "id": "9iOtZeAcE3km"
      }
    },
    {
      "cell_type": "code",
      "source": [
        "\n",
        "#Student 2\n",
        "\n",
        "#import pandas as pd\n",
        "#import numpy as np\n",
        "#from sklearn.linear_model import LinearRegression\n",
        "#from sklearn.cross_validation import cross_val_score  \n",
        "\n",
        "#### There CrossValidations comes form sklearn.model_selection module\n",
        "\n",
        "# Load data\n",
        "#data = pd.read_csv('../data/train.csv') # It would be nice to see the full path\n",
        "\n",
        "\n",
        "# Setup data for prediction\n",
        "#y = data.SalaryNormalized\n",
        "#X = pd.get_dummies(data.ContractType)\n",
        "\n",
        "#### Rem Unfortunately, you haven't use train-test split. \n",
        "# Setup model\n",
        "#model = LinearRegression()\n",
        "#### REM Model should be trained using FIT command!!!   \n",
        "# Evaluate model\n",
        "#scores = cross_val_score(model, X, y, cv=5, scoring='mean_absolute_error')\n",
        "#print(scores.mean())"
      ],
      "metadata": {
        "id": "WYw32yk5E-JL"
      },
      "execution_count": 149,
      "outputs": []
    },
    {
      "cell_type": "code",
      "source": [
        "\n",
        "# Student 1 \n",
        "\n",
        "#import pandas as pd\n",
        "#import numpy as np\n",
        "#from sklearn import LinearRegression\n",
        "#from sklearn.cross_validation import cross_val_score\n",
        "\n",
        "## REM LinearRegression comes form sklearn.linear_model  \n",
        "## REM from sklearn.model_selection import cross_val_score  \n",
        "##\n",
        "# Load data\n",
        "#d = pd.read_csv('../data/train.csv')  # It would be nice to see the full path\n",
        "\n",
        "\n",
        "# Setup data for prediction\n",
        "#x1 = data.SalaryNormalized\n",
        "\n",
        "##  REM The name of your dateframe is d, not data. You chose the name youself.     \n",
        "## REM   X, y - standard notation for features and the target column, not x1 and x2.\n",
        "#x2 = pd.get_dummies(data.ContractType)\n",
        "\n",
        "# Setup model\n",
        "#model = LinearRegression()\n",
        "## REM    THE model only initialized, but not trained using FIT command\n",
        "\n",
        "\n",
        "## REM All library are supposed to be mentioned at the top.  \n",
        "##   from sklearn.model_selection import cross_val_score\n",
        "## - how the CrossValidation score is supposed to be imported\n",
        "## Usage of Cross Validation makes sense if cv >1, otherwise there are other accuracy measures available. \n",
        "## Unfortunately, you haven't use train-test split. \n",
        "## from sklearn.model_selection import train_test_split  - both CVs and TTsptill come from ModelSelection module\n",
        "\n",
        "#from sklearn.cross_validation import cross_val_score\n",
        "#from sklearn.cross_validation import train_test_split\n",
        "#scores = cross_val_score(model, x2, x1, cv=1, scoring='mean_absolute_error')\n",
        "#print(scores.mean())"
      ],
      "metadata": {
        "id": "uVmmq3zjFd8s"
      },
      "execution_count": 150,
      "outputs": []
    }
  ]
}